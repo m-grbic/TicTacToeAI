{
 "cells": [
  {
   "cell_type": "code",
   "execution_count": 46,
   "metadata": {},
   "outputs": [],
   "source": [
    "import numpy as np"
   ]
  },
  {
   "cell_type": "markdown",
   "metadata": {},
   "source": [
    "# Algorithm"
   ]
  },
  {
   "cell_type": "code",
   "execution_count": 47,
   "metadata": {},
   "outputs": [],
   "source": [
    "def evaluate(board):\n",
    "    # Check vertical axis\n",
    "    verO = np.all(board[:,0]=='o') | np.all(board[:,1]=='o') | np.all(board[:,2]=='o')\n",
    "    verX = np.all(board[:,0]=='x') | np.all(board[:,1]=='x') | np.all(board[:,2]=='x')\n",
    "    # Check horizontal axis\n",
    "    horO = np.all(board[0,:]=='o') | np.all(board[1,:]=='o') | np.all(board[2,:]=='o')\n",
    "    horX = np.all(board[0,:]=='x') | np.all(board[1,:]=='x') | np.all(board[2,:]=='x')\n",
    "    # Check main diagonal\n",
    "    diagO = (board[0,0]=='o') & (board[1,1]=='o') & (board[2,2]=='o')\n",
    "    diagX = (board[0,0]=='x') & (board[1,1]=='x') & (board[2,2]=='x')\n",
    "    # Check antidiagonal\n",
    "    adiagO = (board[2,0]=='o') & (board[1,1]=='o') & (board[0,2]=='o')\n",
    "    adiagX = (board[2,0]=='x') & (board[1,1]=='x') & (board[0,2]=='x')\n",
    "    \n",
    "    priceO = verO*10 + horO*10 + diagO*10 + adiagO*10\n",
    "    priceX = verX*10 + horX*10 + diagX*10 + adiagX*10\n",
    "\n",
    "    return priceX - priceO\n",
    "    \n",
    "    \n",
    "def isEnd(board):\n",
    "    return (~np.any(board=='_') or (evaluate(board)>=10) or (evaluate(board)<=-10))\n",
    "    \n",
    "\n",
    "def minmax(board, depth, alpha, beta, isMax):\n",
    "    # Check if game is finished or maximum depth is reached\n",
    "    if(isEnd(board) or (depth==0)):\n",
    "        return evaluate(board), -1, -1\n",
    "    \n",
    "    if(isMax):\n",
    "        bestVal = -100\n",
    "        minD = 100\n",
    "        for i in range(3):\n",
    "            for j in range(3):\n",
    "                if(board[i,j]=='_'):\n",
    "                    # Try move\n",
    "                    new_board = board.copy()\n",
    "                    new_board[i,j] = 'x'\n",
    "                    val, r, c = minmax(new_board, depth-1, alpha, beta, False)\n",
    "                    \n",
    "                    # Check for improvement\n",
    "                    if(val > bestVal):\n",
    "                        bestVal = val\n",
    "                        row = i\n",
    "                        col = j\n",
    "                        minD = depth\n",
    "                    elif (val==bestVal and depth<minD):\n",
    "                        bestVal = val\n",
    "                        row = i\n",
    "                        col = j\n",
    "                        minD = depth\n",
    "                        \n",
    "                    # alpha-beta pruning\n",
    "                    alpha = max(alpha, val)\n",
    "                    if(alpha >= beta):\n",
    "                        return bestVal, row, col\n",
    "    else:\n",
    "        bestVal = 100\n",
    "        minD = 100\n",
    "        for i in range(3):\n",
    "            for j in range(3):\n",
    "                if(board[i,j]=='_'):\n",
    "                    new_board = board.copy()\n",
    "                    new_board[i,j] = 'o'\n",
    "                    val, r, c = minmax(new_board, depth-1, alpha, beta, True)\n",
    "                    \n",
    "                    if(val < bestVal):\n",
    "                        bestVal = val\n",
    "                        row = i\n",
    "                        col = j\n",
    "                        minD = depth\n",
    "                    elif (val==bestVal and depth<minD):\n",
    "                        bestVal = val\n",
    "                        row = i\n",
    "                        col = j\n",
    "                        minD = depth\n",
    "                        \n",
    "                    # alpha-beta pruning\n",
    "                    beta = min(val, beta)\n",
    "                    if(alpha >= beta):\n",
    "                        return bestVal, row, col\n",
    "                    \n",
    "    return bestVal, row, col"
   ]
  },
  {
   "cell_type": "markdown",
   "metadata": {},
   "source": [
    "# AI vs AI"
   ]
  },
  {
   "cell_type": "code",
   "execution_count": 48,
   "metadata": {},
   "outputs": [
    {
     "name": "stdout",
     "output_type": "stream",
     "text": [
      "Board after last move:\n",
      "[['x' '_' '_']\n",
      " ['_' '_' '_']\n",
      " ['_' '_' '_']]\n",
      "Board after last move:\n",
      "[['x' '_' '_']\n",
      " ['_' 'o' '_']\n",
      " ['_' '_' '_']]\n",
      "Board after last move:\n",
      "[['x' 'x' '_']\n",
      " ['_' 'o' '_']\n",
      " ['_' '_' '_']]\n",
      "Board after last move:\n",
      "[['x' 'x' 'o']\n",
      " ['_' 'o' '_']\n",
      " ['_' '_' '_']]\n",
      "Board after last move:\n",
      "[['x' 'x' 'o']\n",
      " ['_' 'o' '_']\n",
      " ['x' '_' '_']]\n",
      "Board after last move:\n",
      "[['x' 'x' 'o']\n",
      " ['o' 'o' '_']\n",
      " ['x' '_' '_']]\n",
      "Board after last move:\n",
      "[['x' 'x' 'o']\n",
      " ['o' 'o' 'x']\n",
      " ['x' '_' '_']]\n",
      "Board after last move:\n",
      "[['x' 'x' 'o']\n",
      " ['o' 'o' 'x']\n",
      " ['x' 'o' '_']]\n",
      "Board after last move:\n",
      "[['x' 'x' 'o']\n",
      " ['o' 'o' 'x']\n",
      " ['x' 'o' 'x']]\n"
     ]
    }
   ],
   "source": [
    "board = np.array([['_','_','_'],\n",
    "                  ['_','_','_'],\n",
    "                  ['_','_','_']])\n",
    "\n",
    "Xplayer = True\n",
    "while(~isEnd(board)):\n",
    "    \n",
    "    # Call algorithm\n",
    "    val, row, col = minmax(board, 6, -1000, 1000, Xplayer)\n",
    "    \n",
    "    # Save move\n",
    "    if(Xplayer):\n",
    "        board[row, col] = 'x'\n",
    "    else:\n",
    "        board[row, col] = 'o'\n",
    "        \n",
    "    # Switch players\n",
    "    Xplayer = not Xplayer\n",
    "        \n",
    "    # Print recommended move\n",
    "    print(\"Board after last move:\")\n",
    "    print(board)\n",
    "    \n",
    "    "
   ]
  },
  {
   "cell_type": "markdown",
   "metadata": {},
   "source": [
    "# User vs AI"
   ]
  },
  {
   "cell_type": "code",
   "execution_count": 49,
   "metadata": {},
   "outputs": [
    {
     "name": "stdout",
     "output_type": "stream",
     "text": [
      "Choose your player: X/O\n"
     ]
    },
    {
     "name": "stdin",
     "output_type": "stream",
     "text": [
      " X\n"
     ]
    },
    {
     "name": "stdout",
     "output_type": "stream",
     "text": [
      "-.-.-.-.-.-.-.-.-.-.-.-.-.-.-.-.-.-.-.-.-.-.-\n",
      "Current status\n",
      "[['_' '_' '_']\n",
      " ['_' '_' '_']\n",
      " ['_' '_' '_']]\n",
      "Enter row of your next move (1, 2, 3)\n"
     ]
    },
    {
     "name": "stdin",
     "output_type": "stream",
     "text": [
      " 1\n"
     ]
    },
    {
     "name": "stdout",
     "output_type": "stream",
     "text": [
      "Enter column of your next move (1, 2, 3)\n"
     ]
    },
    {
     "name": "stdin",
     "output_type": "stream",
     "text": [
      " 1\n"
     ]
    },
    {
     "name": "stdout",
     "output_type": "stream",
     "text": [
      "Move made by user\n",
      "-.-.-.-.-.-.-.-.-.-.-.-.-.-.-.-.-.-.-.-.-.-.-\n",
      "Current status\n",
      "[['x' '_' '_']\n",
      " ['_' '_' '_']\n",
      " ['_' '_' '_']]\n",
      "Move made by AI\n",
      "-.-.-.-.-.-.-.-.-.-.-.-.-.-.-.-.-.-.-.-.-.-.-\n",
      "Current status\n",
      "[['x' '_' '_']\n",
      " ['_' 'o' '_']\n",
      " ['_' '_' '_']]\n",
      "Enter row of your next move (1, 2, 3)\n"
     ]
    },
    {
     "name": "stdin",
     "output_type": "stream",
     "text": [
      " 3\n"
     ]
    },
    {
     "name": "stdout",
     "output_type": "stream",
     "text": [
      "Enter column of your next move (1, 2, 3)\n"
     ]
    },
    {
     "name": "stdin",
     "output_type": "stream",
     "text": [
      " 3\n"
     ]
    },
    {
     "name": "stdout",
     "output_type": "stream",
     "text": [
      "Move made by user\n",
      "-.-.-.-.-.-.-.-.-.-.-.-.-.-.-.-.-.-.-.-.-.-.-\n",
      "Current status\n",
      "[['x' '_' '_']\n",
      " ['_' 'o' '_']\n",
      " ['_' '_' 'x']]\n",
      "Move made by AI\n",
      "-.-.-.-.-.-.-.-.-.-.-.-.-.-.-.-.-.-.-.-.-.-.-\n",
      "Current status\n",
      "[['x' 'o' '_']\n",
      " ['_' 'o' '_']\n",
      " ['_' '_' 'x']]\n",
      "Enter row of your next move (1, 2, 3)\n"
     ]
    },
    {
     "name": "stdin",
     "output_type": "stream",
     "text": [
      " 3\n"
     ]
    },
    {
     "name": "stdout",
     "output_type": "stream",
     "text": [
      "Enter column of your next move (1, 2, 3)\n"
     ]
    },
    {
     "name": "stdin",
     "output_type": "stream",
     "text": [
      " 2\n"
     ]
    },
    {
     "name": "stdout",
     "output_type": "stream",
     "text": [
      "Move made by user\n",
      "-.-.-.-.-.-.-.-.-.-.-.-.-.-.-.-.-.-.-.-.-.-.-\n",
      "Current status\n",
      "[['x' 'o' '_']\n",
      " ['_' 'o' '_']\n",
      " ['_' 'x' 'x']]\n",
      "Move made by AI\n",
      "-.-.-.-.-.-.-.-.-.-.-.-.-.-.-.-.-.-.-.-.-.-.-\n",
      "Current status\n",
      "[['x' 'o' '_']\n",
      " ['_' 'o' '_']\n",
      " ['o' 'x' 'x']]\n",
      "Enter row of your next move (1, 2, 3)\n"
     ]
    },
    {
     "name": "stdin",
     "output_type": "stream",
     "text": [
      " 1\n"
     ]
    },
    {
     "name": "stdout",
     "output_type": "stream",
     "text": [
      "Enter column of your next move (1, 2, 3)\n"
     ]
    },
    {
     "name": "stdin",
     "output_type": "stream",
     "text": [
      " 3\n"
     ]
    },
    {
     "name": "stdout",
     "output_type": "stream",
     "text": [
      "Move made by user\n",
      "-.-.-.-.-.-.-.-.-.-.-.-.-.-.-.-.-.-.-.-.-.-.-\n",
      "Current status\n",
      "[['x' 'o' 'x']\n",
      " ['_' 'o' '_']\n",
      " ['o' 'x' 'x']]\n",
      "Move made by AI\n",
      "-.-.-.-.-.-.-.-.-.-.-.-.-.-.-.-.-.-.-.-.-.-.-\n",
      "Current status\n",
      "[['x' 'o' 'x']\n",
      " ['_' 'o' 'o']\n",
      " ['o' 'x' 'x']]\n",
      "Enter row of your next move (1, 2, 3)\n"
     ]
    },
    {
     "name": "stdin",
     "output_type": "stream",
     "text": [
      " 2\n"
     ]
    },
    {
     "name": "stdout",
     "output_type": "stream",
     "text": [
      "Enter column of your next move (1, 2, 3)\n"
     ]
    },
    {
     "name": "stdin",
     "output_type": "stream",
     "text": [
      " 1\n"
     ]
    },
    {
     "name": "stdout",
     "output_type": "stream",
     "text": [
      "Move made by user\n",
      "============================================\n",
      "Game is finished\n",
      "[['x' 'o' 'x']\n",
      " ['x' 'o' 'o']\n",
      " ['o' 'x' 'x']]\n"
     ]
    }
   ],
   "source": [
    "board = np.array([['_','_','_'],\n",
    "                  ['_','_','_'],\n",
    "                  ['_','_','_']])\n",
    "\n",
    "print(\"Choose your player: X/O\")\n",
    "player = input()\n",
    "\n",
    "if(player == \"X\" or player == \"x\"):\n",
    "    human = True\n",
    "else:\n",
    "    human = False\n",
    "    \n",
    "current = True\n",
    "\n",
    "while(~isEnd(board)):\n",
    "    print(\"-.-.-.-.-.-.-.-.-.-.-.-.-.-.-.-.-.-.-.-.-.-.-\")\n",
    "    print(\"Current status\")\n",
    "    print(board)\n",
    "    \n",
    "    if(current == human):\n",
    "        print(\"Enter row of your next move (1, 2, 3)\")\n",
    "        row = int(input())\n",
    "        print(\"Enter column of your next move (1, 2, 3)\")\n",
    "        col = int(input())\n",
    "        \n",
    "        if(human == True):\n",
    "            board[row-1, col-1] = 'x'\n",
    "        else:\n",
    "            board[row-1, col-1] = 'o'\n",
    "            \n",
    "        print(\"Move made by user\")\n",
    "            \n",
    "    else:\n",
    "        # Call AI\n",
    "        val, row, col = minmax(board, 6, -1000, 1000, current)\n",
    "        if(current == True):\n",
    "            board[row, col] = 'x'\n",
    "        else:\n",
    "            board[row, col] = 'o'\n",
    "        print(\"Move made by AI\")\n",
    "            \n",
    "    current = not current\n",
    "    \n",
    "print(\"============================================\")\n",
    "print(\"Game is finished\")\n",
    "print(board)"
   ]
  }
 ],
 "metadata": {
  "kernelspec": {
   "display_name": "Python 3",
   "language": "python",
   "name": "python3"
  },
  "language_info": {
   "codemirror_mode": {
    "name": "ipython",
    "version": 3
   },
   "file_extension": ".py",
   "mimetype": "text/x-python",
   "name": "python",
   "nbconvert_exporter": "python",
   "pygments_lexer": "ipython3",
   "version": "3.6.8"
  }
 },
 "nbformat": 4,
 "nbformat_minor": 4
}
